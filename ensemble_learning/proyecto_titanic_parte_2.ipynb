{
  "nbformat": 4,
  "nbformat_minor": 0,
  "metadata": {
    "colab": {
      "name": "proyecto_titanic_parte_2.ipynb",
      "provenance": [],
      "authorship_tag": "ABX9TyNwfNNtJo3zDho2s7vFrMo2",
      "include_colab_link": true
    },
    "kernelspec": {
      "name": "python3",
      "display_name": "Python 3"
    },
    "language_info": {
      "name": "python"
    }
  },
  "cells": [
    {
      "cell_type": "markdown",
      "metadata": {
        "id": "view-in-github",
        "colab_type": "text"
      },
      "source": [
        "<a href=\"https://colab.research.google.com/github/cavendano01/Statistical-Learning-I/blob/main/ensemble_learning/proyecto_titanic_parte_2.ipynb\" target=\"_parent\"><img src=\"https://colab.research.google.com/assets/colab-badge.svg\" alt=\"Open In Colab\"/></a>"
      ]
    },
    {
      "cell_type": "markdown",
      "metadata": {
        "id": "Nt4dJ1vQzsgO"
      },
      "source": [
        "# Parte 2(Deployment , inferencia y predicción) :\n",
        "\n",
        "En un notebook distinto e independiente del usado \"simular\" como el modelo (resultado de combinar los mejores 4) puede ser usado para realizar predicciones en nuevos datos. \n"
      ]
    },
    {
      "cell_type": "code",
      "metadata": {
        "id": "aTUTs5WRzAJC"
      },
      "source": [
        "import pandas as pd\n",
        "import numpy as np # Data Manipulation & Naive Bayes\n",
        "import joblib"
      ],
      "execution_count": 22,
      "outputs": []
    },
    {
      "cell_type": "markdown",
      "metadata": {
        "id": "SdpbFQvm0RzP"
      },
      "source": [
        "## Cargando Test Data"
      ]
    },
    {
      "cell_type": "code",
      "metadata": {
        "colab": {
          "base_uri": "https://localhost:8080/"
        },
        "id": "suwr074x0Re_",
        "outputId": "0df9b2c5-8b3d-4172-ec31-98605d7ef442"
      },
      "source": [
        "#Data Loading\n",
        "from google.colab import drive\n",
        "drive.mount('/content/drive/')"
      ],
      "execution_count": 1,
      "outputs": [
        {
          "output_type": "stream",
          "text": [
            "Mounted at /content/drive/\n"
          ],
          "name": "stdout"
        }
      ]
    },
    {
      "cell_type": "code",
      "metadata": {
        "id": "pEc407Es0W4_"
      },
      "source": [
        "X = pd.read_csv(\"/content/drive/MyDrive/Statistical Learning O/proyecto_final/X_test.csv\")\n",
        "y = pd.read_csv(\"/content/drive/MyDrive/Statistical Learning O/proyecto_final/y_test.csv\")"
      ],
      "execution_count": 12,
      "outputs": []
    },
    {
      "cell_type": "code",
      "metadata": {
        "colab": {
          "base_uri": "https://localhost:8080/"
        },
        "id": "uJ7vpCOS00nB",
        "outputId": "66a32264-2ea3-499e-868b-67240b1c277c"
      },
      "source": [
        "X_test = X.iloc[:, 1:7].values #Excluyendo Nombre y ID de variables predictivas\n",
        "y_test = y.iloc[:, 1].values \n",
        "y_test"
      ],
      "execution_count": 26,
      "outputs": [
        {
          "output_type": "execute_result",
          "data": {
            "text/plain": [
              "array([1, 0, 1, 0, 1, 0, 0, 1, 0, 1, 0, 1, 0, 1, 1, 1, 0, 0, 0, 1, 0, 0,\n",
              "       1, 0, 0, 1, 1, 1, 0, 1, 0, 1, 0, 0, 0, 1, 1, 0, 1, 0, 1, 1, 1, 0,\n",
              "       1, 0, 0, 0, 1, 0, 0, 1, 0, 0, 1, 1, 0, 0, 0, 0, 0, 0, 0, 1, 1, 1,\n",
              "       1, 1, 0, 0, 0, 0, 0, 0, 0, 0, 1, 0, 0, 1, 1, 0, 0, 0, 1, 0, 0, 0,\n",
              "       0, 1, 0, 0, 0, 1, 0, 0, 0, 1, 0, 0, 0, 0, 1, 0, 1, 0, 0, 0, 0, 0,\n",
              "       1, 0, 0, 1, 0, 0, 0, 0, 1, 1, 1, 0, 0, 0, 1, 1, 1, 1, 0, 1, 0, 1,\n",
              "       1, 1, 1, 1, 1, 0, 0, 1, 0, 0, 1, 0, 1, 0, 0, 0, 0, 0, 1, 0, 0, 1,\n",
              "       1, 0, 0, 0, 1, 0, 0, 0, 1, 1, 0, 1, 1, 1, 0, 0, 1, 0, 1, 0, 1, 0,\n",
              "       0, 0, 1])"
            ]
          },
          "metadata": {
            "tags": []
          },
          "execution_count": 26
        }
      ]
    },
    {
      "cell_type": "markdown",
      "metadata": {
        "id": "N2dPfjTLznWQ"
      },
      "source": [
        "## Cargar los modelos elegidos :\n",
        "* Si es sklearn usar :\n",
        "* svm_model = joblib.load('svm_lr=0.01_reg=0.1_var1_var2_var3.pkl')\n",
        "* Si es tf y se exportó el tensor de parámetros con numpy(o bien si se usó numpy para bayes):\n",
        "* reg_model = np.load(\"regLog_lr=0.01_reg=0.1_var1_var2_var3.npy\")\n",
        "* Si se usó pandas para guardar en csv, usar pd.read_csv\n"
      ]
    },
    {
      "cell_type": "code",
      "metadata": {
        "colab": {
          "base_uri": "https://localhost:8080/"
        },
        "id": "DgP-Gajn0D7a",
        "outputId": "0d3179d5-39cd-4558-a128-dc0522c2e42d"
      },
      "source": [
        "filename = '/content/drive/MyDrive/Statistical Learning O/proyecto_final/models/test1.csv'\n",
        "loaded_model = joblib.load(filename)\n",
        "result = loaded_model.score(X_test, y_test)\n",
        "print(result)"
      ],
      "execution_count": 27,
      "outputs": [
        {
          "output_type": "stream",
          "text": [
            "0.6256983240223464\n"
          ],
          "name": "stdout"
        }
      ]
    },
    {
      "cell_type": "markdown",
      "metadata": {
        "id": "AwONsX_4z_p-"
      },
      "source": [
        "## Crear una función que prediga para cierta observación (una sola) x la predicción y_hat combinada y además:"
      ]
    },
    {
      "cell_type": "code",
      "metadata": {
        "id": "IsaeJgRrz6LP"
      },
      "source": [
        ""
      ],
      "execution_count": null,
      "outputs": []
    },
    {
      "cell_type": "markdown",
      "metadata": {
        "id": "zwIDbcDr0HY2"
      },
      "source": [
        "## Muestre en el notebook el árbol de decisión y como este llega a una conclusión usando sklearn(ya lo hace) "
      ]
    },
    {
      "cell_type": "code",
      "metadata": {
        "id": "YPcr5FDM0KtL"
      },
      "source": [
        ""
      ],
      "execution_count": null,
      "outputs": []
    }
  ]
}