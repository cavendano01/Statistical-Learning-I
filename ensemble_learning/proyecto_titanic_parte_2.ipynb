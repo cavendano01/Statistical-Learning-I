{
  "nbformat": 4,
  "nbformat_minor": 0,
  "metadata": {
    "colab": {
      "name": "proyecto_titanic_parte_2.ipynb",
      "provenance": [],
      "authorship_tag": "ABX9TyN6FAvFO9Idhpmj8GKnztfS",
      "include_colab_link": true
    },
    "kernelspec": {
      "name": "python3",
      "display_name": "Python 3"
    },
    "language_info": {
      "name": "python"
    }
  },
  "cells": [
    {
      "cell_type": "markdown",
      "metadata": {
        "id": "view-in-github",
        "colab_type": "text"
      },
      "source": [
        "<a href=\"https://colab.research.google.com/github/cavendano01/Statistical-Learning-I/blob/main/ensemble_learning/proyecto_titanic_parte_2.ipynb\" target=\"_parent\"><img src=\"https://colab.research.google.com/assets/colab-badge.svg\" alt=\"Open In Colab\"/></a>"
      ]
    },
    {
      "cell_type": "code",
      "metadata": {
        "id": "LJxf_RF15KRj"
      },
      "source": [
        ""
      ],
      "execution_count": null,
      "outputs": []
    },
    {
      "cell_type": "markdown",
      "metadata": {
        "id": "Nt4dJ1vQzsgO"
      },
      "source": [
        "# Parte 2(Deployment , inferencia y predicción) :\n",
        "\n",
        "En un notebook distinto e independiente del usado \"simular\" como el modelo (resultado de combinar los mejores 4) puede ser usado para realizar predicciones en nuevos datos. \n",
        "\n",
        "Link a Colab\n",
        "https://colab.research.google.com/drive/15-f1VZ8WP5gw8HFceJAsY61RN2RTy-5B?usp=sharing"
      ]
    },
    {
      "cell_type": "code",
      "metadata": {
        "id": "aTUTs5WRzAJC"
      },
      "source": [
        "import pandas as pd\n",
        "import numpy as np # Data Manipulation & Naive Bayes\n",
        "from joblib import dump, load"
      ],
      "execution_count": 26,
      "outputs": []
    },
    {
      "cell_type": "markdown",
      "metadata": {
        "id": "SdpbFQvm0RzP"
      },
      "source": [
        "## Cargando Test Data"
      ]
    },
    {
      "cell_type": "code",
      "metadata": {
        "colab": {
          "base_uri": "https://localhost:8080/"
        },
        "id": "suwr074x0Re_",
        "outputId": "37c10575-f97d-4c67-d0b1-9b4bdfabe283"
      },
      "source": [
        "#Data Loading\n",
        "from google.colab import drive\n",
        "drive.mount('/content/drive/')"
      ],
      "execution_count": 3,
      "outputs": [
        {
          "output_type": "stream",
          "text": [
            "Mounted at /content/drive/\n"
          ],
          "name": "stdout"
        }
      ]
    },
    {
      "cell_type": "code",
      "metadata": {
        "id": "pEc407Es0W4_"
      },
      "source": [
        "X = pd.read_csv(\"/content/drive/MyDrive/Statistical Learning O/proyecto_final/X_test.csv\")\n",
        "y = pd.read_csv(\"/content/drive/MyDrive/Statistical Learning O/proyecto_final/y_test.csv\")"
      ],
      "execution_count": 4,
      "outputs": []
    },
    {
      "cell_type": "code",
      "metadata": {
        "colab": {
          "base_uri": "https://localhost:8080/"
        },
        "id": "uJ7vpCOS00nB",
        "outputId": "4412b62e-85ae-42df-f350-ee43498ad9a6"
      },
      "source": [
        "X_test = X.iloc[:, 1:7].values #Excluyendo Nombre y ID de variables predictivas\n",
        "y_test = y.iloc[:, 1].values \n",
        "y_test"
      ],
      "execution_count": 5,
      "outputs": [
        {
          "output_type": "execute_result",
          "data": {
            "text/plain": [
              "array([1, 0, 1, 0, 1, 0, 0, 1, 0, 1, 0, 1, 0, 1, 1, 1, 0, 0, 0, 1, 0, 0,\n",
              "       1, 0, 0, 1, 1, 1, 0, 1, 0, 1, 0, 0, 0, 1, 1, 0, 1, 0, 1, 1, 1, 0,\n",
              "       1, 0, 0, 0, 1, 0, 0, 1, 0, 0, 1, 1, 0, 0, 0, 0, 0, 0, 0, 1, 1, 1,\n",
              "       1, 1, 0, 0, 0, 0, 0, 0, 0, 0, 1, 0, 0, 1, 1, 0, 0, 0, 1, 0, 0, 0,\n",
              "       0, 1, 0, 0, 0, 1, 0, 0, 0, 1, 0, 0, 0, 0, 1, 0, 1, 0, 0, 0, 0, 0,\n",
              "       1, 0, 0, 1, 0, 0, 0, 0, 1, 1, 1, 0, 0, 0, 1, 1, 1, 1, 0, 1, 0, 1,\n",
              "       1, 1, 1, 1, 1, 0, 0, 1, 0, 0, 1, 0, 1, 0, 0, 0, 0, 0, 1, 0, 0, 1,\n",
              "       1, 0, 0, 0, 1, 0, 0, 0, 1, 1, 0, 1, 1, 1, 0, 0, 1, 0, 1, 0, 1, 0,\n",
              "       0, 0, 1])"
            ]
          },
          "metadata": {
            "tags": []
          },
          "execution_count": 5
        }
      ]
    },
    {
      "cell_type": "markdown",
      "metadata": {
        "id": "N2dPfjTLznWQ"
      },
      "source": [
        "## Cargar los modelos elegidos :\n",
        "* Si es sklearn usar :\n",
        "* svm_model = joblib.load('svm_lr=0.01_reg=0.1_var1_var2_var3.pkl')\n",
        "* Si es tf y se exportó el tensor de parámetros con numpy(o bien si se usó numpy para bayes):\n",
        "* reg_model = np.load(\"regLog_lr=0.01_reg=0.1_var1_var2_var3.npy\")\n",
        "* Si se usó pandas para guardar en csv, usar pd.read_csv\n"
      ]
    },
    {
      "cell_type": "code",
      "metadata": {
        "colab": {
          "base_uri": "https://localhost:8080/"
        },
        "id": "DgP-Gajn0D7a",
        "outputId": "f5140c5b-d6ef-4c33-bfd2-d9ab3be58ed4"
      },
      "source": [
        "filename = '/content/drive/MyDrive/Statistical Learning O/proyecto_final/models/test1.csv'\n",
        "loaded_model = joblib.load(filename)\n",
        "result = loaded_model.score(X_test, y_test)\n",
        "print(result)"
      ],
      "execution_count": 6,
      "outputs": [
        {
          "output_type": "stream",
          "text": [
            "0.6256983240223464\n"
          ],
          "name": "stdout"
        }
      ]
    },
    {
      "cell_type": "markdown",
      "metadata": {
        "id": "AwONsX_4z_p-"
      },
      "source": [
        "## Crear una función que prediga para cierta observación (una sola) x la predicción y_hat combinada y además:"
      ]
    },
    {
      "cell_type": "code",
      "metadata": {
        "id": "IsaeJgRrz6LP"
      },
      "source": [
        "  def predictor(filename,X_values,y_values):\n",
        "    loaded_model = joblib.load(filename)\n",
        "    result = loaded_model.score(X_values, y_values)\n",
        "    print(result)\n",
        "\n",
        "\n",
        "  def predict_y(X_values,model):\n",
        "      prediction = model.predict(X_values)\n",
        "      return prediction"
      ],
      "execution_count": 34,
      "outputs": []
    },
    {
      "cell_type": "code",
      "metadata": {
        "colab": {
          "base_uri": "https://localhost:8080/"
        },
        "id": "Ophd6aSvX5XU",
        "outputId": "97ff9e53-b1cd-424c-b2f3-6519bedf7946"
      },
      "source": [
        "filename = '/content/drive/MyDrive/Statistical Learning O/proyecto_final/models/decision_tree_entropy_md=7_msl_15.joblib'\n",
        "model = load(filename)\n",
        "X_values = X_test\n",
        "y_values = y_test\n",
        "\n",
        "predictor(filename,X_values,y_values)"
      ],
      "execution_count": 32,
      "outputs": [
        {
          "output_type": "stream",
          "text": [
            "0.6424581005586593\n"
          ],
          "name": "stdout"
        }
      ]
    },
    {
      "cell_type": "code",
      "metadata": {
        "id": "FwZLxiknabEZ"
      },
      "source": [
        ""
      ],
      "execution_count": null,
      "outputs": []
    },
    {
      "cell_type": "code",
      "metadata": {
        "colab": {
          "base_uri": "https://localhost:8080/"
        },
        "id": "KsbQUISsYo9C",
        "outputId": "73a99677-2062-4a34-a6b1-10841be973ed"
      },
      "source": [
        "predict_y(X_values,model)"
      ],
      "execution_count": 35,
      "outputs": [
        {
          "output_type": "execute_result",
          "data": {
            "text/plain": [
              "array([0, 0, 0, 0, 1, 0, 1, 0, 1, 0, 0, 0, 0, 0, 0, 0, 0, 0, 0, 1, 0, 1,\n",
              "       1, 0, 1, 0, 1, 0, 0, 1, 0, 0, 0, 0, 0, 0, 0, 0, 1, 0, 0, 0, 1, 0,\n",
              "       1, 0, 0, 0, 1, 0, 1, 0, 0, 0, 0, 0, 0, 0, 0, 0, 0, 0, 1, 0, 0, 1,\n",
              "       1, 1, 0, 1, 0, 0, 1, 0, 0, 1, 0, 0, 1, 1, 0, 0, 0, 0, 1, 0, 0, 0,\n",
              "       0, 0, 0, 0, 1, 0, 0, 1, 0, 0, 0, 0, 1, 0, 0, 1, 1, 0, 0, 0, 0, 0,\n",
              "       1, 1, 0, 0, 0, 0, 0, 0, 0, 0, 0, 1, 0, 0, 1, 0, 0, 0, 0, 0, 0, 0,\n",
              "       1, 1, 0, 1, 1, 0, 0, 0, 1, 0, 1, 0, 0, 0, 0, 0, 0, 0, 0, 0, 1, 1,\n",
              "       0, 0, 0, 0, 1, 0, 0, 0, 0, 0, 0, 1, 1, 0, 0, 1, 1, 0, 1, 0, 0, 0,\n",
              "       0, 1, 1])"
            ]
          },
          "metadata": {
            "tags": []
          },
          "execution_count": 35
        }
      ]
    },
    {
      "cell_type": "markdown",
      "metadata": {
        "id": "ul9mtAieZiTh"
      },
      "source": [
        "### Single Estimation "
      ]
    },
    {
      "cell_type": "code",
      "metadata": {
        "colab": {
          "base_uri": "https://localhost:8080/"
        },
        "id": "KhvWczZ7ZphW",
        "outputId": "1f67f04a-4810-42c6-e42e-febf802ce0c3"
      },
      "source": [
        ""
      ],
      "execution_count": 41,
      "outputs": [
        {
          "output_type": "stream",
          "text": [
            "[[48.          0.          0.         25.9292      2.          2.        ]\n",
            " [29.69911765  0.          0.          7.8958      2.          0.        ]\n",
            " [17.          0.          0.         10.5         2.          1.        ]\n",
            " ...\n",
            " [29.69911765  0.          0.          7.7333      1.          0.        ]\n",
            " [21.          0.          0.          7.7333      1.          0.        ]\n",
            " [ 5.          2.          1.         19.2583      0.          0.        ]]\n"
          ],
          "name": "stdout"
        }
      ]
    },
    {
      "cell_type": "markdown",
      "metadata": {
        "id": "zwIDbcDr0HY2"
      },
      "source": [
        "## Muestre en el notebook el árbol de decisión y como este llega a una conclusión usando sklearn(ya lo hace) "
      ]
    },
    {
      "cell_type": "code",
      "metadata": {
        "id": "YPcr5FDM0KtL"
      },
      "source": [
        ""
      ],
      "execution_count": null,
      "outputs": []
    }
  ]
}