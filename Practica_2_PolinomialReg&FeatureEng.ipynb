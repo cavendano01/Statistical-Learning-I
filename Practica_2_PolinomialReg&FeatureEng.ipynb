{
  "nbformat": 4,
  "nbformat_minor": 0,
  "metadata": {
    "colab": {
      "name": "Practica_2-PolinomialReg&FeatureEng.ipynb",
      "provenance": [],
      "authorship_tag": "ABX9TyNeUmB69GVHPL0IlFimnXzy",
      "include_colab_link": true
    },
    "kernelspec": {
      "name": "python3",
      "display_name": "Python 3"
    },
    "language_info": {
      "name": "python"
    }
  },
  "cells": [
    {
      "cell_type": "markdown",
      "metadata": {
        "id": "view-in-github",
        "colab_type": "text"
      },
      "source": [
        "<a href=\"https://colab.research.google.com/github/cavendano01/Statistical-Learning-I/blob/main/Practica_2_PolinomialReg%26FeatureEng.ipynb\" target=\"_parent\"><img src=\"https://colab.research.google.com/assets/colab-badge.svg\" alt=\"Open In Colab\"/></a>"
      ]
    },
    {
      "cell_type": "markdown",
      "metadata": {
        "id": "lM95Vy1Tgyxy"
      },
      "source": [
        "#Parte 1 - Modelo exponencial de covid-19 usando feature-eng\n",
        "Usando el ejemplo de covid-19 en el notebook de feature-eng (https://colab.research.google.com/drive/1sJV2HG7tQgCGKES3-dIclzHQJ9qAWB3b?usp=sharing) crear un modelo de covid-19 para Guatemala.\n",
        "\n",
        "Convertir la fecha a un entero \"número de día\", por ejemplo si se usan datos desde el 22 de abril, este es el día 0, el 23 es el día 1.\n",
        "Aplicar regresión lineal sobre la variable \"Confirmed\" transformada.\n",
        "Una vez entrenado el modelo usarlo para aproximar la cantidad de casos confirmados para el 30 de mayo. Se debe reportar la cantidad de casos, no la cantidad transformada obtenida."
      ]
    },
    {
      "cell_type": "code",
      "metadata": {
        "id": "QGdogHY9iOG_"
      },
      "source": [
        "import numpy as np\n",
        "import pandas as pd\n",
        "import seaborn as sns\n",
        "from matplotlib import pyplot as plt\n",
        "from datetime import datetime\n",
        "from google.colab import drive \n",
        "from scipy.stats import norm\n",
        "from sklearn.metrics import mean_squared_error\n",
        "import tensorflow as tf"
      ],
      "execution_count": 8,
      "outputs": []
    },
    {
      "cell_type": "code",
      "metadata": {
        "colab": {
          "base_uri": "https://localhost:8080/"
        },
        "id": "c-CPDxfKiOnB",
        "outputId": "053b0823-baa6-40a1-da5c-7379ef24d05d"
      },
      "source": [
        "if tf.__version__.startswith(\"2.\"):\n",
        "  import tensorflow.compat.v1 as tf\n",
        "  tf.compat.v1.disable_v2_behavior()\n",
        "  tf.compat.v1.disable_eager_execution()\n",
        "  print(\"Enabled compatitility to tf1.x\")"
      ],
      "execution_count": 9,
      "outputs": [
        {
          "output_type": "stream",
          "text": [
            "Enabled compatitility to tf1.x\n"
          ],
          "name": "stdout"
        }
      ]
    },
    {
      "cell_type": "code",
      "metadata": {
        "colab": {
          "base_uri": "https://localhost:8080/"
        },
        "id": "ZnuEKpU1uZa2",
        "outputId": "0a562ffa-1e4f-4287-a307-19d238350a22"
      },
      "source": [
        "drive.mount('/content/gdrive')"
      ],
      "execution_count": 10,
      "outputs": [
        {
          "output_type": "stream",
          "text": [
            "Drive already mounted at /content/gdrive; to attempt to forcibly remount, call drive.mount(\"/content/gdrive\", force_remount=True).\n"
          ],
          "name": "stdout"
        }
      ]
    },
    {
      "cell_type": "code",
      "metadata": {
        "colab": {
          "base_uri": "https://localhost:8080/",
          "height": 206
        },
        "id": "gbgV9tijiG23",
        "outputId": "555eaac1-8da6-4ab2-caf4-6b73dccfcffe"
      },
      "source": [
        "covid19_data = pd.read_csv('/content/gdrive/MyDrive/Statistical Learning O/covid.csv')\n",
        "covid19_data[\"Date\"] = pd.to_datetime(covid19_data[\"Date\"],infer_datetime_format = True)\n",
        "covid19_data.tail()"
      ],
      "execution_count": 12,
      "outputs": [
        {
          "output_type": "execute_result",
          "data": {
            "text/html": [
              "<div>\n",
              "<style scoped>\n",
              "    .dataframe tbody tr th:only-of-type {\n",
              "        vertical-align: middle;\n",
              "    }\n",
              "\n",
              "    .dataframe tbody tr th {\n",
              "        vertical-align: top;\n",
              "    }\n",
              "\n",
              "    .dataframe thead th {\n",
              "        text-align: right;\n",
              "    }\n",
              "</style>\n",
              "<table border=\"1\" class=\"dataframe\">\n",
              "  <thead>\n",
              "    <tr style=\"text-align: right;\">\n",
              "      <th></th>\n",
              "      <th>Province/State</th>\n",
              "      <th>Country/Region</th>\n",
              "      <th>Lat</th>\n",
              "      <th>Long</th>\n",
              "      <th>Date</th>\n",
              "      <th>Confirmed</th>\n",
              "      <th>Deaths</th>\n",
              "      <th>Recovered</th>\n",
              "    </tr>\n",
              "  </thead>\n",
              "  <tbody>\n",
              "    <tr>\n",
              "      <th>29035</th>\n",
              "      <td>NaN</td>\n",
              "      <td>Western Sahara</td>\n",
              "      <td>24.215500</td>\n",
              "      <td>-12.885800</td>\n",
              "      <td>2020-05-10</td>\n",
              "      <td>6</td>\n",
              "      <td>0</td>\n",
              "      <td>5</td>\n",
              "    </tr>\n",
              "    <tr>\n",
              "      <th>29036</th>\n",
              "      <td>NaN</td>\n",
              "      <td>Sao Tome and Principe</td>\n",
              "      <td>0.186360</td>\n",
              "      <td>6.613081</td>\n",
              "      <td>2020-05-10</td>\n",
              "      <td>208</td>\n",
              "      <td>5</td>\n",
              "      <td>4</td>\n",
              "    </tr>\n",
              "    <tr>\n",
              "      <th>29037</th>\n",
              "      <td>NaN</td>\n",
              "      <td>Yemen</td>\n",
              "      <td>15.552727</td>\n",
              "      <td>48.516388</td>\n",
              "      <td>2020-05-10</td>\n",
              "      <td>51</td>\n",
              "      <td>8</td>\n",
              "      <td>1</td>\n",
              "    </tr>\n",
              "    <tr>\n",
              "      <th>29038</th>\n",
              "      <td>NaN</td>\n",
              "      <td>Comoros</td>\n",
              "      <td>-11.645500</td>\n",
              "      <td>43.333300</td>\n",
              "      <td>2020-05-10</td>\n",
              "      <td>11</td>\n",
              "      <td>1</td>\n",
              "      <td>0</td>\n",
              "    </tr>\n",
              "    <tr>\n",
              "      <th>29039</th>\n",
              "      <td>NaN</td>\n",
              "      <td>Tajikistan</td>\n",
              "      <td>38.861034</td>\n",
              "      <td>71.276093</td>\n",
              "      <td>2020-05-10</td>\n",
              "      <td>612</td>\n",
              "      <td>20</td>\n",
              "      <td>0</td>\n",
              "    </tr>\n",
              "  </tbody>\n",
              "</table>\n",
              "</div>"
            ],
            "text/plain": [
              "      Province/State         Country/Region  ...  Deaths  Recovered\n",
              "29035            NaN         Western Sahara  ...       0          5\n",
              "29036            NaN  Sao Tome and Principe  ...       5          4\n",
              "29037            NaN                  Yemen  ...       8          1\n",
              "29038            NaN                Comoros  ...       1          0\n",
              "29039            NaN             Tajikistan  ...      20          0\n",
              "\n",
              "[5 rows x 8 columns]"
            ]
          },
          "metadata": {
            "tags": []
          },
          "execution_count": 12
        }
      ]
    },
    {
      "cell_type": "code",
      "metadata": {
        "id": "c6ynoNhiuyid"
      },
      "source": [
        "#filtradon Guatemala\n",
        "covid_guatemala = covid19_data[(covid19_data[\"Country/Region\"] == 'Guatemala') & (covid19_data[\"Confirmed\"] > 0)].copy()"
      ],
      "execution_count": 14,
      "outputs": []
    },
    {
      "cell_type": "code",
      "metadata": {
        "colab": {
          "base_uri": "https://localhost:8080/",
          "height": 237
        },
        "id": "m8HsMPK1u3kk",
        "outputId": "2695aae3-03e5-4526-9c36-9f310d026175"
      },
      "source": [
        "#dateTRansform\n",
        "\n",
        "df = covid_guatemala.groupby(\"Date\").sum()\n",
        "df.tail()"
      ],
      "execution_count": 15,
      "outputs": [
        {
          "output_type": "execute_result",
          "data": {
            "text/html": [
              "<div>\n",
              "<style scoped>\n",
              "    .dataframe tbody tr th:only-of-type {\n",
              "        vertical-align: middle;\n",
              "    }\n",
              "\n",
              "    .dataframe tbody tr th {\n",
              "        vertical-align: top;\n",
              "    }\n",
              "\n",
              "    .dataframe thead th {\n",
              "        text-align: right;\n",
              "    }\n",
              "</style>\n",
              "<table border=\"1\" class=\"dataframe\">\n",
              "  <thead>\n",
              "    <tr style=\"text-align: right;\">\n",
              "      <th></th>\n",
              "      <th>Lat</th>\n",
              "      <th>Long</th>\n",
              "      <th>Confirmed</th>\n",
              "      <th>Deaths</th>\n",
              "      <th>Recovered</th>\n",
              "    </tr>\n",
              "    <tr>\n",
              "      <th>Date</th>\n",
              "      <th></th>\n",
              "      <th></th>\n",
              "      <th></th>\n",
              "      <th></th>\n",
              "      <th></th>\n",
              "    </tr>\n",
              "  </thead>\n",
              "  <tbody>\n",
              "    <tr>\n",
              "      <th>2020-05-06</th>\n",
              "      <td>15.7835</td>\n",
              "      <td>-90.2308</td>\n",
              "      <td>798</td>\n",
              "      <td>21</td>\n",
              "      <td>86</td>\n",
              "    </tr>\n",
              "    <tr>\n",
              "      <th>2020-05-07</th>\n",
              "      <td>15.7835</td>\n",
              "      <td>-90.2308</td>\n",
              "      <td>832</td>\n",
              "      <td>23</td>\n",
              "      <td>90</td>\n",
              "    </tr>\n",
              "    <tr>\n",
              "      <th>2020-05-08</th>\n",
              "      <td>15.7835</td>\n",
              "      <td>-90.2308</td>\n",
              "      <td>900</td>\n",
              "      <td>24</td>\n",
              "      <td>101</td>\n",
              "    </tr>\n",
              "    <tr>\n",
              "      <th>2020-05-09</th>\n",
              "      <td>15.7835</td>\n",
              "      <td>-90.2308</td>\n",
              "      <td>967</td>\n",
              "      <td>24</td>\n",
              "      <td>104</td>\n",
              "    </tr>\n",
              "    <tr>\n",
              "      <th>2020-05-10</th>\n",
              "      <td>15.7835</td>\n",
              "      <td>-90.2308</td>\n",
              "      <td>1052</td>\n",
              "      <td>26</td>\n",
              "      <td>110</td>\n",
              "    </tr>\n",
              "  </tbody>\n",
              "</table>\n",
              "</div>"
            ],
            "text/plain": [
              "                Lat     Long  Confirmed  Deaths  Recovered\n",
              "Date                                                      \n",
              "2020-05-06  15.7835 -90.2308        798      21         86\n",
              "2020-05-07  15.7835 -90.2308        832      23         90\n",
              "2020-05-08  15.7835 -90.2308        900      24        101\n",
              "2020-05-09  15.7835 -90.2308        967      24        104\n",
              "2020-05-10  15.7835 -90.2308       1052      26        110"
            ]
          },
          "metadata": {
            "tags": []
          },
          "execution_count": 15
        }
      ]
    }
  ]
}